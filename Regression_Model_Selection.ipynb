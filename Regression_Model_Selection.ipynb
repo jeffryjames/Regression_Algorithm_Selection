{
  "nbformat": 4,
  "nbformat_minor": 0,
  "metadata": {
    "colab": {
      "name": "Regression Model Selection.ipynb",
      "provenance": [],
      "collapsed_sections": []
    },
    "kernelspec": {
      "name": "python3",
      "display_name": "Python 3"
    },
    "language_info": {
      "name": "python"
    }
  },
  "cells": [
    {
      "cell_type": "code",
      "metadata": {
        "colab": {
          "base_uri": "https://localhost:8080/"
        },
        "id": "k2QU8bVly6ap",
        "outputId": "45a01d76-95bc-4b6c-b605-7b709e73b37e"
      },
      "source": [
        "import numpy as np\n",
        "import matplotlib.pyplot as plt\n",
        "import pandas as pd\n",
        "\n",
        "data = pd.read_csv(\"/content/dataset.csv\")\n",
        "print(data.head())\n",
        "print(data.shape)\n",
        "\n",
        "X = data.iloc[:, :-1].values\n",
        "y = data.iloc[:, -1].values\n",
        "ysvm = y.reshape(len(y),1)\n",
        "\n",
        "\n",
        "from sklearn.model_selection import train_test_split\n",
        "X_train, X_test, y_train, y_test = train_test_split(X, y, test_size = 0.2, random_state = 0)\n",
        "#for svm\n",
        "X_trainsvm, X_testsvm, y_trainsvm, y_testsvm = train_test_split(X, ysvm, test_size = 0.2, random_state = 0)\n",
        "\n",
        "\n",
        "from sklearn.linear_model import LinearRegression\n",
        "from sklearn.preprocessing import PolynomialFeatures\n",
        "from sklearn.ensemble import RandomForestRegressor\n",
        "from sklearn.tree import DecisionTreeRegressor\n",
        "from sklearn.svm import SVR\n",
        "\n",
        "from sklearn.preprocessing import StandardScaler\n",
        "\n",
        "modelLR  = LinearRegression()\n",
        "\n",
        "poly_reg = PolynomialFeatures(degree = 4)\n",
        "X_poly   = poly_reg.fit_transform(X_train)\n",
        "modelPLR = LinearRegression()\n",
        "\n",
        "modelRFR = RandomForestRegressor(n_estimators = 10, random_state = 0)\n",
        "\n",
        "modelDTR = DecisionTreeRegressor(random_state = 0)\n",
        "\n",
        "modelSVR = SVR(kernel = 'rbf')\n",
        "\n",
        "sc_X     = StandardScaler()\n",
        "sc_y     = StandardScaler()\n",
        "X_trainsvm  = sc_X.fit_transform(X_trainsvm)\n",
        "y_trainsvm  = sc_y.fit_transform(y_trainsvm)\n",
        "\n",
        "\n",
        "modelLR.fit(X_train, y_train)\n",
        "modelPLR.fit(X_poly, y_train)\n",
        "modelRFR.fit(X_train, y_train)\n",
        "modelDTR.fit(X_train, y_train)\n",
        "modelSVR.fit(X_trainsvm, y_trainsvm)\n",
        "\n",
        "modelLRy_pred  = modelLR.predict(X_test)\n",
        "modelPLRy_pred = modelPLR.predict(poly_reg.transform(X_test))\n",
        "modelRFRy_pred = modelRFR.predict(X_test)\n",
        "modelDTRy_pred = modelDTR.predict(X_test)\n",
        "modelSVRy_pred = sc_y.inverse_transform(modelSVR.predict(sc_X.transform(X_test)))\n",
        "\n",
        "from sklearn.metrics import r2_score\n",
        "print(\"Linear Regression Accuracy: {}\".format(r2_score(y_test, modelLRy_pred)))\n",
        "print(\"Polynomial Regression Accuracy: {}\".format(r2_score(y_test, modelPLRy_pred)))\n",
        "print(\"Random Forest Regression Accuracy: {}\".format(r2_score(y_test, modelRFRy_pred)))\n",
        "print(\"Decision Treee Regression Accuracy: {}\".format(r2_score(y_test, modelDTRy_pred)))\n",
        "print(\"Support Vector Regression Accuracy: {}\".format(r2_score(y_test, modelSVRy_pred)))\n",
        "\n",
        "\n"
      ],
      "execution_count": 3,
      "outputs": [
        {
          "output_type": "stream",
          "text": [
            "      AT      V       AP     RH      PE\n",
            "0  14.96  41.76  1024.07  73.17  463.26\n",
            "1  25.18  62.96  1020.04  59.08  444.37\n",
            "2   5.11  39.40  1012.16  92.14  488.56\n",
            "3  20.86  57.32  1010.24  76.64  446.48\n",
            "4  10.82  37.50  1009.23  96.62  473.90\n",
            "(9568, 5)\n"
          ],
          "name": "stdout"
        },
        {
          "output_type": "stream",
          "text": [
            "/usr/local/lib/python3.7/dist-packages/sklearn/utils/validation.py:760: DataConversionWarning: A column-vector y was passed when a 1d array was expected. Please change the shape of y to (n_samples, ), for example using ravel().\n",
            "  y = column_or_1d(y, warn=True)\n"
          ],
          "name": "stderr"
        },
        {
          "output_type": "stream",
          "text": [
            "Linear Regression Accuracy: 0.9325315554761302\n",
            "Polynomial Regression Accuracy: 0.9458192606428238\n",
            "Random Forest Regression Accuracy: 0.9615980699813017\n",
            "Decision Treee Regression Accuracy: 0.9226091050550043\n",
            "Support Vector Regression Accuracy: 0.9480784049986258\n"
          ],
          "name": "stdout"
        }
      ]
    },
    {
      "cell_type": "code",
      "metadata": {
        "id": "pLVaXoYVU_Uy"
      },
      "source": [
        "1)"
      ],
      "execution_count": null,
      "outputs": []
    }
  ]
}